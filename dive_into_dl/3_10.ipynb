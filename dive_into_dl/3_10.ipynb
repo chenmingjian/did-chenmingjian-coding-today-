{
 "nbformat": 4,
 "nbformat_minor": 2,
 "metadata": {
  "language_info": {
   "name": "python",
   "codemirror_mode": {
    "name": "ipython",
    "version": 3
   },
   "version": "3.7.6-final"
  },
  "orig_nbformat": 2,
  "file_extension": ".py",
  "mimetype": "text/x-python",
  "name": "python",
  "npconvert_exporter": "python",
  "pygments_lexer": "ipython3",
  "version": 3,
  "kernelspec": {
   "name": "python37664bittf20condadac192e1edbb4b1e9045821c940dfbf8",
   "display_name": "Python 3.7.6 64-bit ('tf20': conda)"
  }
 },
 "cells": [
  {
   "cell_type": "code",
   "execution_count": 1,
   "metadata": {},
   "outputs": [],
   "source": [
    "import tensorflow as tf \n",
    "from tensorflow import keras\n",
    "import sys\n",
    "sys.path.append('Dive-into-DL-TensorFlow2.0-master/code')\n",
    "\n",
    "fashion_mnist = keras.datasets.fashion_mnist"
   ]
  },
  {
   "cell_type": "code",
   "execution_count": 2,
   "metadata": {},
   "outputs": [],
   "source": [
    "model = tf.keras.models.Sequential([\n",
    "    tf.keras.layers.Flatten(input_shape=(28, 28)),\n",
    "    tf.keras.layers.Dense(256, activation='relu',),\n",
    "    tf.keras.layers.Dense(10, activation='softmax')\n",
    "])\n",
    ""
   ]
  },
  {
   "cell_type": "code",
   "execution_count": 3,
   "metadata": {},
   "outputs": [
    {
     "output_type": "stream",
     "name": "stdout",
     "text": "Train on 60000 samples, validate on 10000 samples\nEpoch 1/5\n60000/60000 [==============================] - 2s 26us/sample - loss: 0.7520 - accuracy: 0.7292 - val_loss: 0.5935 - val_accuracy: 0.7721\nEpoch 2/5\n60000/60000 [==============================] - 1s 17us/sample - loss: 0.4657 - accuracy: 0.8282 - val_loss: 0.5162 - val_accuracy: 0.7994\nEpoch 3/5\n60000/60000 [==============================] - 1s 17us/sample - loss: 0.4074 - accuracy: 0.8488 - val_loss: 0.4860 - val_accuracy: 0.8307\nEpoch 4/5\n60000/60000 [==============================] - 1s 17us/sample - loss: 0.3828 - accuracy: 0.8595 - val_loss: 0.4348 - val_accuracy: 0.8429\nEpoch 5/5\n60000/60000 [==============================] - 1s 17us/sample - loss: 0.3566 - accuracy: 0.8695 - val_loss: 0.3810 - val_accuracy: 0.8619\n"
    },
    {
     "output_type": "execute_result",
     "data": {
      "text/plain": "<tensorflow.python.keras.callbacks.History at 0x7f98100f5090>"
     },
     "metadata": {},
     "execution_count": 3
    }
   ],
   "source": [
    "fashion_mnist = keras.datasets.fashion_mnist\n",
    "(x_train, y_train), (x_test, y_test) = fashion_mnist.load_data()\n",
    "x_train = x_train / 255.0\n",
    "x_test = x_test / 255.0\n",
    "model.compile(optimizer=tf.keras.optimizers.SGD(lr=0.5),\n",
    "             loss = 'sparse_categorical_crossentropy',\n",
    "             metrics=['accuracy'])\n",
    "model.fit(x_train, y_train, epochs=5,\n",
    "              batch_size=256,\n",
    "              validation_data=(x_test, y_test),\n",
    "              validation_freq=1)\n",
    ""
   ]
  },
  {
   "cell_type": "code",
   "execution_count": null,
   "metadata": {},
   "outputs": [],
   "source": []
  }
 ]
}