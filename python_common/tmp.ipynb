{
 "nbformat": 4,
 "nbformat_minor": 2,
 "metadata": {
  "language_info": {
   "name": "python",
   "codemirror_mode": {
    "name": "ipython",
    "version": 3
   },
   "version": "3.7.6-final"
  },
  "orig_nbformat": 2,
  "file_extension": ".py",
  "mimetype": "text/x-python",
  "name": "python",
  "npconvert_exporter": "python",
  "pygments_lexer": "ipython3",
  "version": 3,
  "kernelspec": {
   "name": "python3",
   "display_name": "Python 3"
  }
 },
 "cells": [
  {
   "cell_type": "code",
   "execution_count": 7,
   "metadata": {},
   "outputs": [],
   "source": [
    "from typing import *\n",
    ""
   ]
  },
  {
   "cell_type": "code",
   "execution_count": 8,
   "metadata": {},
   "outputs": [],
   "source": [
    "class Solution:\n",
    "    def massage(self, nums: List[int]) -> int:\n",
    "        dp = [0 for i in range(len(nums))]\n",
    "        def ok(i):\n",
    "            if i == len(nums):\n",
    "                return 0\n",
    "            if i == len(nums) - 1:\n",
    "                return nums[i]\n",
    "            if dp[i] == 0:\n",
    "                dp[i] = max(nums[i] + ok(i+2), ok(i+1))\n",
    "\n",
    "            return dp[i]\n",
    "        # tmp = ok(0)\n",
    "        # print(dp)\n",
    "        return ok(0)\n",
    ""
   ]
  },
  {
   "cell_type": "code",
   "execution_count": 9,
   "metadata": {},
   "outputs": [
    {
     "output_type": "execute_result",
     "data": {
      "text/plain": "3365"
     },
     "metadata": {},
     "execution_count": 9
    }
   ],
   "source": [
    "Solution().massage([183,219,57,193,94,233,202,154,65,240,97,234,100,249,186,66,90,238,168,128,177,235,50,81,185,165,217,207,88,80,112,78,135,62,228,247,211])"
   ]
  },
  {
   "cell_type": "code",
   "execution_count": null,
   "metadata": {},
   "outputs": [],
   "source": []
  }
 ]
}