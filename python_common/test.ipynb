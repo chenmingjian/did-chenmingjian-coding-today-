{
 "nbformat": 4,
 "nbformat_minor": 2,
 "metadata": {
  "language_info": {
   "name": "python",
   "codemirror_mode": {
    "name": "ipython",
    "version": 3
   },
   "version": "3.7.3-final"
  },
  "orig_nbformat": 2,
  "file_extension": ".py",
  "mimetype": "text/x-python",
  "name": "python",
  "npconvert_exporter": "python",
  "pygments_lexer": "ipython3",
  "version": 3,
  "kernelspec": {
   "name": "python37364bitccondab9a8b1f8193940dda332a1dd338897c0",
   "display_name": "Python 3.7.3 64-bit ('C': conda)"
  }
 },
 "cells": [
  {
   "cell_type": "code",
   "execution_count": 29,
   "metadata": {},
   "outputs": [],
   "source": [
    "import json"
   ]
  },
  {
   "cell_type": "code",
   "execution_count": 66,
   "metadata": {},
   "outputs": [],
   "source": [
    "coco_path = R'C:\\Users\\chen\\Desktop\\person_keypoints_val2017.json'\n",
    "coco_like_path = R'C:\\Users\\chen\\Desktop\\coco_like.json'\n",
    "export_path = R'C:\\Users\\chen\\Desktop\\coco-1579418682.4033842.json'"
   ]
  },
  {
   "cell_type": "code",
   "execution_count": 67,
   "metadata": {},
   "outputs": [],
   "source": [
    "coco = json.load(open(coco_path))\n",
    "coco_like = json.load(open(coco_like_path))\n",
    "export = json.load(open(export_path))"
   ]
  },
  {
   "cell_type": "code",
   "execution_count": 47,
   "metadata": {},
   "outputs": [],
   "source": [
    "def test(*paired):\n",
    "    for k in paired[0]:\n",
    "        print(k)\n",
    "        print(paired[0][k], paired[1][k])\n",
    "        print(type(paired[0][k]), type(paired[1][k]))\n",
    "        print()"
   ]
  },
  {
   "cell_type": "code",
   "execution_count": 32,
   "metadata": {},
   "outputs": [
    {
     "name": "stdout",
     "output_type": "stream",
     "text": "info\nlicenses\nimages\nannotations\ncategories\n"
    }
   ],
   "source": [
    "for k in coco:\n",
    "    print(k)"
   ]
  },
  {
   "cell_type": "code",
   "execution_count": 33,
   "metadata": {},
   "outputs": [
    {
     "name": "stdout",
     "output_type": "stream",
     "text": "info\nlicenses\nimages\nannotations\ncategories\n"
    }
   ],
   "source": [
    "for k in coco_like:\n",
    "    print(k)"
   ]
  },
  {
   "cell_type": "code",
   "execution_count": 49,
   "metadata": {},
   "outputs": [
    {
     "name": "stdout",
     "output_type": "stream",
     "text": "description\nCOCO 2017 Dataset Don't deserve a name\n<class 'str'> <class 'str'>\n\nurl\nhttp://cocodataset.org \n<class 'str'> <class 'str'>\n\nversion\n1.0 1.0\n<class 'str'> <class 'str'>\n\nyear\n2017 2019\n<class 'int'> <class 'int'>\n\ncontributor\nCOCO Consortium \n<class 'str'> <class 'str'>\n\ndate_created\n2017/09/01 2019/11/10\n<class 'str'> <class 'str'>\n\n"
    }
   ],
   "source": [
    "test(coco['info'], coco_like['info'])"
   ]
  },
  {
   "cell_type": "code",
   "execution_count": 63,
   "metadata": {},
   "outputs": [
    {
     "data": {
      "text/plain": "([{'url': 'http://creativecommons.org/licenses/by-nc-sa/2.0/',\n   'id': 1,\n   'name': 'Attribution-NonCommercial-ShareAlike License'},\n  {'url': 'http://creativecommons.org/licenses/by-nc/2.0/',\n   'id': 2,\n   'name': 'Attribution-NonCommercial License'},\n  {'url': 'http://creativecommons.org/licenses/by-nc-nd/2.0/',\n   'id': 3,\n   'name': 'Attribution-NonCommercial-NoDerivs License'},\n  {'url': 'http://creativecommons.org/licenses/by/2.0/',\n   'id': 4,\n   'name': 'Attribution License'},\n  {'url': 'http://creativecommons.org/licenses/by-sa/2.0/',\n   'id': 5,\n   'name': 'Attribution-ShareAlike License'},\n  {'url': 'http://creativecommons.org/licenses/by-nd/2.0/',\n   'id': 6,\n   'name': 'Attribution-NoDerivs License'},\n  {'url': 'http://flickr.com/commons/usage/',\n   'id': 7,\n   'name': 'No known copyright restrictions'},\n  {'url': 'http://www.usa.gov/copyright.shtml',\n   'id': 8,\n   'name': 'United States Government Work'}],\n [{'url': 'http://creativecommons.org/licenses/by-nc-sa/2.0/',\n   'id': 0,\n   'name': 'Attribution-NonCommercial-ShareAlike License'}])"
     },
     "execution_count": 63,
     "metadata": {},
     "output_type": "execute_result"
    }
   ],
   "source": [
    "coco['licenses'], coco_like['licenses']"
   ]
  },
  {
   "cell_type": "code",
   "execution_count": 59,
   "metadata": {},
   "outputs": [
    {
     "name": "stdout",
     "output_type": "stream",
     "text": "license\n4 0\n<class 'int'> <class 'int'>\n\nfile_name\n000000397133.jpg 000000000000.jpg\n<class 'str'> <class 'str'>\n\ncoco_url\nhttp://images.cocodataset.org/val2017/000000397133.jpg http://127.0.0.1:65432/000000000000.jpg\n<class 'str'> <class 'str'>\n\nheight\n427 1080\n<class 'int'> <class 'int'>\n\nwidth\n640 1920\n<class 'int'> <class 'int'>\n\ndate_captured\n2013-11-14 17:02:52 1970-01-19 14:42:32\n<class 'str'> <class 'str'>\n\nflickr_url\nhttp://farm7.staticflickr.com/6116/6255196340_da26cf2c9e_z.jpg \n<class 'str'> <class 'str'>\n\nid\n397133 0\n<class 'int'> <class 'int'>\n\n"
    }
   ],
   "source": [
    "test(coco['images'][0], coco_like['images'][0])"
   ]
  },
  {
   "cell_type": "code",
   "execution_count": 60,
   "metadata": {},
   "outputs": [
    {
     "name": "stdout",
     "output_type": "stream",
     "text": "segmentation\n[[125.12, 539.69, 140.94, 522.43, 100.67, 496.54, 84.85, 469.21, 73.35, 450.52, 104.99, 342.65, 168.27, 290.88, 179.78, 288, 189.84, 286.56, 191.28, 260.67, 202.79, 240.54, 221.48, 237.66, 248.81, 243.42, 257.44, 256.36, 253.12, 262.11, 253.12, 275.06, 299.15, 233.35, 329.35, 207.46, 355.24, 206.02, 363.87, 206.02, 365.3, 210.34, 373.93, 221.84, 363.87, 226.16, 363.87, 237.66, 350.92, 237.66, 332.22, 234.79, 314.97, 249.17, 271.82, 313.89, 253.12, 326.83, 227.24, 352.72, 214.29, 357.03, 212.85, 372.85, 208.54, 395.87, 228.67, 414.56, 245.93, 421.75, 266.07, 424.63, 276.13, 437.57, 266.07, 450.52, 284.76, 464.9, 286.2, 479.28, 291.96, 489.35, 310.65, 512.36, 284.76, 549.75, 244.49, 522.43, 215.73, 546.88, 199.91, 558.38, 204.22, 565.57, 189.84, 568.45, 184.09, 575.64, 172.58, 578.52, 145.26, 567.01, 117.93, 551.19, 133.75, 532.49]] []\n<class 'list'> <class 'list'>\n\nnum_keypoints\n10 25\n<class 'int'> <class 'int'>\n\narea\n47803.27955 0\n<class 'float'> <class 'int'>\n\niscrowd\n0 0\n<class 'int'> <class 'int'>\n\nkeypoints\n[0, 0, 0, 0, 0, 0, 0, 0, 0, 0, 0, 0, 0, 0, 0, 142, 309, 1, 177, 320, 2, 191, 398, 2, 237, 317, 2, 233, 426, 2, 306, 233, 2, 92, 452, 2, 123, 468, 2, 0, 0, 0, 251, 469, 2, 0, 0, 0, 162, 551, 2] [1065, 416, 2, 1061, 410, 1, 1053, 410, 2, 1047, 410, 1, 1027, 414, 2, 1026, 455, 1, 1020, 462, 2, 1047, 548, 1, 1085, 530, 2, 1025, 603, 1, 1143, 560, 2, 1077, 653, 1, 1033, 650, 2, 1103, 749, 2, 995, 741, 2, 1144, 861, 2, 926, 845, 2, 1130, 889, 2, 1196, 858, 2, 905, 857, 2, 966, 883, 2, 1016, 636, 1, 1200, 570, 2, 1036, 454, 2, 1044, 364, 2]\n<class 'list'> <class 'list'>\n\nimage_id\n425226 0\n<class 'int'> <class 'int'>\n\nbbox\n[73.35, 206.02, 300.58, 372.5] [893, 355, 313, 546]\n<class 'list'> <class 'list'>\n\ncategory_id\n1 1\n<class 'int'> <class 'int'>\n\nid\n183126 0\n<class 'int'> <class 'int'>\n\n"
    }
   ],
   "source": [
    "test(coco['annotations'][0], coco_like['annotations'][0])"
   ]
  },
  {
   "cell_type": "code",
   "execution_count": 28,
   "metadata": {},
   "outputs": [],
   "source": [
    "json.dump(coco_like, open(coco_like_path, 'w'))"
   ]
  },
  {
   "cell_type": "code",
   "execution_count": 68,
   "metadata": {},
   "outputs": [
    {
     "name": "stdout",
     "output_type": "stream",
     "text": "images\ncategories\nannotations\n"
    }
   ],
   "source": [
    "for i in export:\n",
    "    print(i)"
   ]
  },
  {
   "cell_type": "code",
   "execution_count": 70,
   "metadata": {},
   "outputs": [
    {
     "name": "stdout",
     "output_type": "stream",
     "text": "{'id': 14760, 'dataset_id': 10, 'path': '/datasets/7th/dist/000000000011.jpg', 'width': 1280, 'height': 720, 'file_name': '000000000011.jpg'}\n"
    }
   ],
   "source": [
    "print(export['images'][0])"
   ]
  },
  {
   "cell_type": "code",
   "execution_count": 72,
   "metadata": {},
   "outputs": [
    {
     "name": "stdout",
     "output_type": "stream",
     "text": "[{'id': 1, 'name': 'person', 'supercategory': '', 'color': '#5fc5d8', 'metadata': {}}]\n"
    }
   ],
   "source": [
    "print(export['categories'])"
   ]
  },
  {
   "cell_type": "code",
   "execution_count": 73,
   "metadata": {},
   "outputs": [
    {
     "name": "stdout",
     "output_type": "stream",
     "text": "{'id': 95892, 'image_id': 14760, 'category_id': 1, 'segmentation': [], 'area': 0, 'bbox': [0, 0, 0, 0], 'iscrowd': False, 'isbbox': False, 'color': '#b54e0b', 'keypoints': [799, 197, 2, 805, 187, 2, 801, 186, 1, 834, 190, 2, 827, 189, 1, 847, 245, 2, 847, 241, 1, 886, 339, 2, 840, 325, 1, 802, 359, 2, 801, 336, 2, 879, 428, 2, 869, 421, 1, 821, 537, 2, 863, 536, 2, 849, 645, 2, 953, 573, 2, 881, 668, 2, 799, 669, 2, 982, 574, 2, 963, 641, 2, 779, 364, 2, 779, 341, 2, 843, 231, 2, 818, 145, 2], 'metadata': {}, 'num_keypoints': 25}\n"
    }
   ],
   "source": [
    "print(export['annotations'][0])"
   ]
  },
  {
   "cell_type": "code",
   "execution_count": null,
   "metadata": {},
   "outputs": [],
   "source": []
  }
 ]
}